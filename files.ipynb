{
  "nbformat": 4,
  "nbformat_minor": 0,
  "metadata": {
    "colab": {
      "provenance": []
    },
    "kernelspec": {
      "name": "python3",
      "display_name": "Python 3"
    },
    "language_info": {
      "name": "python"
    }
  },
  "cells": [
    {
      "cell_type": "markdown",
      "source": [
        "                           Theoretical Questions"
      ],
      "metadata": {
        "id": "pUN272bS1_m8"
      }
    },
    {
      "cell_type": "markdown",
      "source": [
        "1. What is the difference between interpreted and compiled languages?\n",
        "\n",
        "-> Compiled languages convert code to machine language before execution (e.g., C++), while interpreted languages (e.g., Python) run code line by line, making debugging easier but slower."
      ],
      "metadata": {
        "id": "oRdp2GuL2Fl5"
      }
    },
    {
      "cell_type": "markdown",
      "source": [
        "2. What is exception handling in Python?\n",
        "\n",
        "-> Exception handling allows you to catch and respond to runtime errors using try, except, finally, and else blocks to prevent program crashes."
      ],
      "metadata": {
        "id": "CYqKibbS2NNg"
      }
    },
    {
      "cell_type": "markdown",
      "source": [
        "3. What is the purpose of the finally block in exception handling?\n",
        "\n",
        "-> The finally block is always executed, whether an exception is raised or not. It’s used for cleanup tasks like closing files or releasing resources."
      ],
      "metadata": {
        "id": "I11Uw2ZM2faW"
      }
    },
    {
      "cell_type": "markdown",
      "source": [
        "4. What is logging in Python?\n",
        "\n",
        "-> Logging is the process of recording events during program execution. Python’s logging module helps track info, warnings, and errors for debugging and monitoring."
      ],
      "metadata": {
        "id": "PJyGt7MD2tyN"
      }
    },
    {
      "cell_type": "markdown",
      "source": [
        "5. What is the significance of the __del__ method in Python?\n",
        "\n",
        "-> __del__ is a destructor method called when an object is deleted. It can be used for cleanup, though relying on it is not recommended due to unpredictable timing.\n",
        "\n"
      ],
      "metadata": {
        "id": "NM0VQFXB303_"
      }
    },
    {
      "cell_type": "markdown",
      "source": [
        "6. What is the difference between import and from ... import in Python?\n",
        "\n",
        "-> import loads the whole module, while from ... import brings specific components directly into your namespace, saving the need for dot notation."
      ],
      "metadata": {
        "id": "MA_vexvz4DmC"
      }
    },
    {
      "cell_type": "markdown",
      "source": [
        "7. How can you handle multiple exceptions in Python?\n",
        "\n",
        "-> Use multiple except blocks for each error type, or a single block with a tuple of exceptions for handling them together."
      ],
      "metadata": {
        "id": "sUMfGlzi4Sq4"
      }
    },
    {
      "cell_type": "markdown",
      "source": [
        "8. What is the purpose of the with statement when handling files in Python?\n",
        "\n",
        "-> The with statement ensures a file is properly closed after operations, even if exceptions occur. It simplifies resource management.\n",
        "\n"
      ],
      "metadata": {
        "id": "Q0twNs26vbuy"
      }
    },
    {
      "cell_type": "markdown",
      "source": [
        "9. What is the difference between multithreading and multiprocessing?\n",
        "\n",
        "-> Multithreading runs multiple threads within one process (sharing memory), while multiprocessing runs separate processes (each with its own memory) for better performance on CPUs.\n",
        "\n"
      ],
      "metadata": {
        "id": "bZ3-xeV7vlho"
      }
    },
    {
      "cell_type": "markdown",
      "source": [
        "10. What are the advantages of using logging in a program?\n",
        "\n",
        "-> Logging provides persistent, time-stamped records for debugging, monitoring, and auditing, without interrupting program flow like print statements do.\n",
        "\n"
      ],
      "metadata": {
        "id": "NMuvTSLwvuDc"
      }
    },
    {
      "cell_type": "markdown",
      "source": [
        "11. What is memory management in Python?\n",
        "\n",
        "-> Python handles memory using private heap space, automatic garbage collection, and dynamic memory allocation during runtime.\n",
        "\n"
      ],
      "metadata": {
        "id": "KvP3OkFrv3Jt"
      }
    },
    {
      "cell_type": "markdown",
      "source": [
        "12. What are the basic steps involved in exception handling in Python?\n",
        "\n",
        "-> Wrap risky code in a try block, catch errors using except, optionally add else for error-free logic, and finally for cleanup."
      ],
      "metadata": {
        "id": "7wKWoNVewJgj"
      }
    },
    {
      "cell_type": "markdown",
      "source": [
        "13. Why is memory management important in Python?\n",
        "\n",
        "-> Proper memory management prevents memory leaks, optimizes performance, and ensures the program doesn’t consume unnecessary resources.\n",
        "\n"
      ],
      "metadata": {
        "id": "js0GF1U3wP6Z"
      }
    },
    {
      "cell_type": "markdown",
      "source": [
        "14. What is the role of try and except in exception handling?\n",
        "\n",
        "-> try wraps code that may cause an error, and except catches and handles specific exceptions to keep the program running.\n",
        "\n"
      ],
      "metadata": {
        "id": "bjiKyroXwXJ6"
      }
    },
    {
      "cell_type": "markdown",
      "source": [
        "15. How does Python's garbage collection system work?\n",
        "\n",
        "-> Python uses reference counting and a cyclic garbage collector to automatically free unused memory objects during program execution."
      ],
      "metadata": {
        "id": "-t2d8eJAwkkN"
      }
    },
    {
      "cell_type": "markdown",
      "source": [
        "16. What is the purpose of the else block in exception handling?\n",
        "\n",
        "-> The else block runs if no exception occurs in the try block. It keeps success-path logic separate from error-handling logic."
      ],
      "metadata": {
        "id": "kltKJ0Zdwsvv"
      }
    },
    {
      "cell_type": "markdown",
      "source": [
        "17. What are the common logging levels in Python?\n",
        "\n",
        "-> Python’s logging levels (in order) are: DEBUG, INFO, WARNING, ERROR, and CRITICAL, used to indicate the severity of messages.\n",
        "\n"
      ],
      "metadata": {
        "id": "redLELzKw16C"
      }
    },
    {
      "cell_type": "markdown",
      "source": [
        "18. What is the difference between os.fork() and multiprocessing in Python?\n",
        "\n",
        "-> os.fork() creates a child process (Unix only), while multiprocessing is cross-platform and provides a simpler API for running multiple processes.\n",
        "\n"
      ],
      "metadata": {
        "id": "MOFa6xj_w-pt"
      }
    },
    {
      "cell_type": "markdown",
      "source": [
        "19. What is the importance of closing a file in Python?\n",
        "\n",
        "-> Closing a file frees system resources and ensures data is properly written and not lost or corrupted during write operations."
      ],
      "metadata": {
        "id": "wPxB-Y7PxGcx"
      }
    },
    {
      "cell_type": "markdown",
      "source": [
        "20. What is the difference between file.read() and file.readline() in Python?\n",
        "\n",
        "-> file.read() reads the entire file as a single string, while file.readline() reads one line at a time, making it memory-efficient.\n",
        "\n"
      ],
      "metadata": {
        "id": "AWcNifFhxNsM"
      }
    },
    {
      "cell_type": "markdown",
      "source": [
        "21. What is the logging module in Python used for?\n",
        "\n",
        "-> The logging module helps record messages of different severity levels to console or files, aiding in debugging and production monitoring.\n",
        "\n"
      ],
      "metadata": {
        "id": "D3zvgWSQxYwg"
      }
    },
    {
      "cell_type": "markdown",
      "source": [
        "22. What is the os module in Python used for in file handling?\n",
        "\n",
        "-> The os module allows interaction with the operating system, such as checking file existence, renaming, deleting, or navigating directories.\n",
        "\n"
      ],
      "metadata": {
        "id": "f98L10BoxgVu"
      }
    },
    {
      "cell_type": "markdown",
      "source": [
        "23. What are the challenges associated with memory management in Python?\n",
        "\n",
        "-> Challenges include managing circular references, controlling large object lifetimes, and tuning performance due to Python’s dynamic typing and garbage collection."
      ],
      "metadata": {
        "id": "kueKVxMvxofh"
      }
    },
    {
      "cell_type": "markdown",
      "source": [
        "24. How do you raise an exception manually in Python?\n",
        "\n",
        "-> Use the raise keyword followed by an exception type to trigger an error intentionally."
      ],
      "metadata": {
        "id": "3_XS83wQxxvO"
      }
    },
    {
      "cell_type": "markdown",
      "source": [
        "25. Why is it important to use multithreading in certain applications?\n",
        "\n",
        "-> Multithreading is useful for I/O-bound tasks (like file or network operations) as it improves responsiveness without blocking the main program.\n",
        "\n"
      ],
      "metadata": {
        "id": "0cti740Bx41D"
      }
    },
    {
      "cell_type": "markdown",
      "source": [
        "                           Practicle Questions"
      ],
      "metadata": {
        "id": "Z7QR3SuxyHlo"
      }
    },
    {
      "cell_type": "code",
      "source": [
        "# 1. How can you open a file for writing in Python and write a string to it?\n",
        "with open(\"output.txt\", \"w\") as file:\n",
        "    file.write(\"Hello, this is a test string.\")\n"
      ],
      "metadata": {
        "id": "8OI98locyQJD"
      },
      "execution_count": 1,
      "outputs": []
    },
    {
      "cell_type": "code",
      "source": [
        "# 2. Write a Python program to read the contents of a file and print each line.\n",
        "with open(\"input.txt\", \"r\") as file:\n",
        "    for line in file:\n",
        "        print(line.strip())\n"
      ],
      "metadata": {
        "colab": {
          "base_uri": "https://localhost:8080/",
          "height": 211
        },
        "id": "V0oI-7FMyVNY",
        "outputId": "26d2ce06-e9cb-42a0-edf0-527605a67c79"
      },
      "execution_count": 2,
      "outputs": [
        {
          "output_type": "error",
          "ename": "FileNotFoundError",
          "evalue": "[Errno 2] No such file or directory: 'input.txt'",
          "traceback": [
            "\u001b[0;31m---------------------------------------------------------------------------\u001b[0m",
            "\u001b[0;31mFileNotFoundError\u001b[0m                         Traceback (most recent call last)",
            "\u001b[0;32m/tmp/ipython-input-2-2994422491.py\u001b[0m in \u001b[0;36m<cell line: 0>\u001b[0;34m()\u001b[0m\n\u001b[1;32m      1\u001b[0m \u001b[0;31m# 2. Write a Python program to read the contents of a file and print each line.\u001b[0m\u001b[0;34m\u001b[0m\u001b[0;34m\u001b[0m\u001b[0m\n\u001b[0;32m----> 2\u001b[0;31m \u001b[0;32mwith\u001b[0m \u001b[0mopen\u001b[0m\u001b[0;34m(\u001b[0m\u001b[0;34m\"input.txt\"\u001b[0m\u001b[0;34m,\u001b[0m \u001b[0;34m\"r\"\u001b[0m\u001b[0;34m)\u001b[0m \u001b[0;32mas\u001b[0m \u001b[0mfile\u001b[0m\u001b[0;34m:\u001b[0m\u001b[0;34m\u001b[0m\u001b[0;34m\u001b[0m\u001b[0m\n\u001b[0m\u001b[1;32m      3\u001b[0m     \u001b[0;32mfor\u001b[0m \u001b[0mline\u001b[0m \u001b[0;32min\u001b[0m \u001b[0mfile\u001b[0m\u001b[0;34m:\u001b[0m\u001b[0;34m\u001b[0m\u001b[0;34m\u001b[0m\u001b[0m\n\u001b[1;32m      4\u001b[0m         \u001b[0mprint\u001b[0m\u001b[0;34m(\u001b[0m\u001b[0mline\u001b[0m\u001b[0;34m.\u001b[0m\u001b[0mstrip\u001b[0m\u001b[0;34m(\u001b[0m\u001b[0;34m)\u001b[0m\u001b[0;34m)\u001b[0m\u001b[0;34m\u001b[0m\u001b[0;34m\u001b[0m\u001b[0m\n",
            "\u001b[0;31mFileNotFoundError\u001b[0m: [Errno 2] No such file or directory: 'input.txt'"
          ]
        }
      ]
    },
    {
      "cell_type": "code",
      "source": [
        "# 3. How would you handle a case where the file doesn't exist while trying to open it for reading?\n",
        "try:\n",
        "    with open(\"nofile.txt\", \"r\") as file:\n",
        "        content = file.read()\n",
        "except FileNotFoundError:\n",
        "    print(\"File not found!\")\n"
      ],
      "metadata": {
        "colab": {
          "base_uri": "https://localhost:8080/"
        },
        "id": "9uYUaQHiykhC",
        "outputId": "175fb407-e779-4ef9-b755-8f83e94c0406"
      },
      "execution_count": 3,
      "outputs": [
        {
          "output_type": "stream",
          "name": "stdout",
          "text": [
            "File not found!\n"
          ]
        }
      ]
    },
    {
      "cell_type": "code",
      "source": [
        "# 4. Write a Python script that reads from one file and writes its content to another file.\n",
        "with open(\"source.txt\", \"r\") as src, open(\"destination.txt\", \"w\") as dest:\n",
        "    for line in src:\n",
        "        dest.write(line)\n"
      ],
      "metadata": {
        "colab": {
          "base_uri": "https://localhost:8080/",
          "height": 211
        },
        "id": "hk6NGP5ZynjP",
        "outputId": "8c6faa0e-eb75-4e9e-92cf-bf86f667ca98"
      },
      "execution_count": 4,
      "outputs": [
        {
          "output_type": "error",
          "ename": "FileNotFoundError",
          "evalue": "[Errno 2] No such file or directory: 'source.txt'",
          "traceback": [
            "\u001b[0;31m---------------------------------------------------------------------------\u001b[0m",
            "\u001b[0;31mFileNotFoundError\u001b[0m                         Traceback (most recent call last)",
            "\u001b[0;32m/tmp/ipython-input-4-2348237462.py\u001b[0m in \u001b[0;36m<cell line: 0>\u001b[0;34m()\u001b[0m\n\u001b[1;32m      1\u001b[0m \u001b[0;31m# 4. Write a Python script that reads from one file and writes its content to another file.\u001b[0m\u001b[0;34m\u001b[0m\u001b[0;34m\u001b[0m\u001b[0m\n\u001b[0;32m----> 2\u001b[0;31m \u001b[0;32mwith\u001b[0m \u001b[0mopen\u001b[0m\u001b[0;34m(\u001b[0m\u001b[0;34m\"source.txt\"\u001b[0m\u001b[0;34m,\u001b[0m \u001b[0;34m\"r\"\u001b[0m\u001b[0;34m)\u001b[0m \u001b[0;32mas\u001b[0m \u001b[0msrc\u001b[0m\u001b[0;34m,\u001b[0m \u001b[0mopen\u001b[0m\u001b[0;34m(\u001b[0m\u001b[0;34m\"destination.txt\"\u001b[0m\u001b[0;34m,\u001b[0m \u001b[0;34m\"w\"\u001b[0m\u001b[0;34m)\u001b[0m \u001b[0;32mas\u001b[0m \u001b[0mdest\u001b[0m\u001b[0;34m:\u001b[0m\u001b[0;34m\u001b[0m\u001b[0;34m\u001b[0m\u001b[0m\n\u001b[0m\u001b[1;32m      3\u001b[0m     \u001b[0;32mfor\u001b[0m \u001b[0mline\u001b[0m \u001b[0;32min\u001b[0m \u001b[0msrc\u001b[0m\u001b[0;34m:\u001b[0m\u001b[0;34m\u001b[0m\u001b[0;34m\u001b[0m\u001b[0m\n\u001b[1;32m      4\u001b[0m         \u001b[0mdest\u001b[0m\u001b[0;34m.\u001b[0m\u001b[0mwrite\u001b[0m\u001b[0;34m(\u001b[0m\u001b[0mline\u001b[0m\u001b[0;34m)\u001b[0m\u001b[0;34m\u001b[0m\u001b[0;34m\u001b[0m\u001b[0m\n",
            "\u001b[0;31mFileNotFoundError\u001b[0m: [Errno 2] No such file or directory: 'source.txt'"
          ]
        }
      ]
    },
    {
      "cell_type": "code",
      "source": [
        "# 5. How would you catch and handle division by zero error in Python?\n",
        "try:\n",
        "    result = 10 / 0\n",
        "except ZeroDivisionError:\n",
        "    print(\"Cannot divide by zero.\")\n"
      ],
      "metadata": {
        "colab": {
          "base_uri": "https://localhost:8080/"
        },
        "id": "OhzjbjEQyrHq",
        "outputId": "a946b7e3-8081-44c7-dff0-b8ae65abf99e"
      },
      "execution_count": 5,
      "outputs": [
        {
          "output_type": "stream",
          "name": "stdout",
          "text": [
            "Cannot divide by zero.\n"
          ]
        }
      ]
    },
    {
      "cell_type": "code",
      "source": [
        "# 6. Write a Python program that logs an error message to a log file when a division by zero exception occurs.\n",
        "import logging\n",
        "\n",
        "logging.basicConfig(filename=\"errors.log\", level=logging.ERROR)\n",
        "\n",
        "try:\n",
        "    x = 10 / 0\n",
        "except ZeroDivisionError as e:\n",
        "    logging.error(f\"Error occurred: {e}\")\n"
      ],
      "metadata": {
        "colab": {
          "base_uri": "https://localhost:8080/"
        },
        "id": "lJauY3zvyy-o",
        "outputId": "83872119-6f80-440a-ef6e-f54245db2fc5"
      },
      "execution_count": 6,
      "outputs": [
        {
          "output_type": "stream",
          "name": "stderr",
          "text": [
            "ERROR:root:Error occurred: division by zero\n"
          ]
        }
      ]
    },
    {
      "cell_type": "code",
      "source": [
        "# 7. How do you log information at different levels (INFO, ERROR, WARNING) in Python using the logging module?\n",
        "import logging\n",
        "\n",
        "logging.basicConfig(level=logging.DEBUG)\n",
        "logging.info(\"This is an info message\")\n",
        "logging.warning(\"This is a warning\")\n",
        "logging.error(\"This is an error\")\n"
      ],
      "metadata": {
        "colab": {
          "base_uri": "https://localhost:8080/"
        },
        "id": "jcY3oLBby1Ju",
        "outputId": "ed3e3926-2f2b-46f0-cfe1-44b87902a543"
      },
      "execution_count": 7,
      "outputs": [
        {
          "output_type": "stream",
          "name": "stderr",
          "text": [
            "WARNING:root:This is a warning\n",
            "ERROR:root:This is an error\n"
          ]
        }
      ]
    },
    {
      "cell_type": "code",
      "source": [
        "# 8. Write a program to handle a file opening error using exception handling.\n",
        "try:\n",
        "    with open(\"nonexistent.txt\", \"r\") as file:\n",
        "        content = file.read()\n",
        "except IOError:\n",
        "    print(\"Failed to open file.\")\n"
      ],
      "metadata": {
        "colab": {
          "base_uri": "https://localhost:8080/"
        },
        "id": "1oKXXtyry9E4",
        "outputId": "7a6b865a-ba4d-4170-fe99-8a5a1b14a45b"
      },
      "execution_count": 8,
      "outputs": [
        {
          "output_type": "stream",
          "name": "stdout",
          "text": [
            "Failed to open file.\n"
          ]
        }
      ]
    },
    {
      "cell_type": "code",
      "source": [
        "# 9. How can you read a file line by line and store its content in a list in Python?\n",
        "with open(\"data.txt\", \"r\") as file:\n",
        "    lines = file.readlines()\n",
        "    line_list = [line.strip() for line in lines]\n"
      ],
      "metadata": {
        "colab": {
          "base_uri": "https://localhost:8080/",
          "height": 211
        },
        "id": "gEAwNO5XzCfv",
        "outputId": "2c7f97ce-e465-4195-d549-b8701eb821c6"
      },
      "execution_count": 9,
      "outputs": [
        {
          "output_type": "error",
          "ename": "FileNotFoundError",
          "evalue": "[Errno 2] No such file or directory: 'data.txt'",
          "traceback": [
            "\u001b[0;31m---------------------------------------------------------------------------\u001b[0m",
            "\u001b[0;31mFileNotFoundError\u001b[0m                         Traceback (most recent call last)",
            "\u001b[0;32m/tmp/ipython-input-9-781183313.py\u001b[0m in \u001b[0;36m<cell line: 0>\u001b[0;34m()\u001b[0m\n\u001b[1;32m      1\u001b[0m \u001b[0;31m# 9. How can you read a file line by line and store its content in a list in Python?\u001b[0m\u001b[0;34m\u001b[0m\u001b[0;34m\u001b[0m\u001b[0m\n\u001b[0;32m----> 2\u001b[0;31m \u001b[0;32mwith\u001b[0m \u001b[0mopen\u001b[0m\u001b[0;34m(\u001b[0m\u001b[0;34m\"data.txt\"\u001b[0m\u001b[0;34m,\u001b[0m \u001b[0;34m\"r\"\u001b[0m\u001b[0;34m)\u001b[0m \u001b[0;32mas\u001b[0m \u001b[0mfile\u001b[0m\u001b[0;34m:\u001b[0m\u001b[0;34m\u001b[0m\u001b[0;34m\u001b[0m\u001b[0m\n\u001b[0m\u001b[1;32m      3\u001b[0m     \u001b[0mlines\u001b[0m \u001b[0;34m=\u001b[0m \u001b[0mfile\u001b[0m\u001b[0;34m.\u001b[0m\u001b[0mreadlines\u001b[0m\u001b[0;34m(\u001b[0m\u001b[0;34m)\u001b[0m\u001b[0;34m\u001b[0m\u001b[0;34m\u001b[0m\u001b[0m\n\u001b[1;32m      4\u001b[0m     \u001b[0mline_list\u001b[0m \u001b[0;34m=\u001b[0m \u001b[0;34m[\u001b[0m\u001b[0mline\u001b[0m\u001b[0;34m.\u001b[0m\u001b[0mstrip\u001b[0m\u001b[0;34m(\u001b[0m\u001b[0;34m)\u001b[0m \u001b[0;32mfor\u001b[0m \u001b[0mline\u001b[0m \u001b[0;32min\u001b[0m \u001b[0mlines\u001b[0m\u001b[0;34m]\u001b[0m\u001b[0;34m\u001b[0m\u001b[0;34m\u001b[0m\u001b[0m\n",
            "\u001b[0;31mFileNotFoundError\u001b[0m: [Errno 2] No such file or directory: 'data.txt'"
          ]
        }
      ]
    },
    {
      "cell_type": "code",
      "source": [
        "# 10. How can you append data to an existing file in Python?\n",
        "with open(\"data.txt\", \"a\") as file:\n",
        "    file.write(\"\\nAppended line.\")\n"
      ],
      "metadata": {
        "id": "6nQm1nrBzIzj"
      },
      "execution_count": 10,
      "outputs": []
    },
    {
      "cell_type": "code",
      "source": [
        "# 11. Write a Python program that uses a try-except block to handle an error when attempting to access a dictionary key that doesn't exist.\n",
        "data = {\"name\": \"Alice\"}\n",
        "\n",
        "try:\n",
        "    print(data[\"age\"])\n",
        "except KeyError:\n",
        "    print(\"Key does not exist in the dictionary.\")\n"
      ],
      "metadata": {
        "colab": {
          "base_uri": "https://localhost:8080/"
        },
        "id": "tFJLqZRezNvq",
        "outputId": "63ced5e0-6cea-4b89-b673-3c64aefc5850"
      },
      "execution_count": 11,
      "outputs": [
        {
          "output_type": "stream",
          "name": "stdout",
          "text": [
            "Key does not exist in the dictionary.\n"
          ]
        }
      ]
    },
    {
      "cell_type": "code",
      "source": [
        "# 12. Write a program that demonstrates using multiple except blocks to handle different types of exceptions.\n",
        "try:\n",
        "    num = int(\"abc\")\n",
        "    result = 10 / 0\n",
        "except ValueError:\n",
        "    print(\"Value error occurred.\")\n",
        "except ZeroDivisionError:\n",
        "    print(\"Division by zero error.\")\n"
      ],
      "metadata": {
        "colab": {
          "base_uri": "https://localhost:8080/"
        },
        "id": "eDglojFhzSUA",
        "outputId": "4acd9ab7-888e-4405-f4f7-ecacb9e39743"
      },
      "execution_count": 12,
      "outputs": [
        {
          "output_type": "stream",
          "name": "stdout",
          "text": [
            "Value error occurred.\n"
          ]
        }
      ]
    },
    {
      "cell_type": "code",
      "source": [
        "# 13. How would you check if a file exists before attempting to read it in Python?\n",
        "import os\n",
        "\n",
        "if os.path.exists(\"example.txt\"):\n",
        "    with open(\"example.txt\", \"r\") as file:\n",
        "        print(file.read())\n",
        "else:\n",
        "    print(\"File does not exist.\")\n"
      ],
      "metadata": {
        "colab": {
          "base_uri": "https://localhost:8080/"
        },
        "id": "I6DLPbEbzWL6",
        "outputId": "59735564-bd04-4c6e-877c-8c9f917dc45c"
      },
      "execution_count": 13,
      "outputs": [
        {
          "output_type": "stream",
          "name": "stdout",
          "text": [
            "File does not exist.\n"
          ]
        }
      ]
    },
    {
      "cell_type": "code",
      "source": [
        "# 14. Write a program that uses the logging module to log both informational and error messages.\n",
        "import logging\n",
        "\n",
        "logging.basicConfig(filename=\"logfile.log\", level=logging.INFO)\n",
        "logging.info(\"Program started.\")\n",
        "\n",
        "try:\n",
        "    x = 1 / 0\n",
        "except ZeroDivisionError as e:\n",
        "    logging.error(f\"An error occurred: {e}\")\n"
      ],
      "metadata": {
        "colab": {
          "base_uri": "https://localhost:8080/"
        },
        "id": "Mzl-ztVwzhJE",
        "outputId": "4e772282-03d2-4db8-d2ca-3992fc0f5e08"
      },
      "execution_count": 14,
      "outputs": [
        {
          "output_type": "stream",
          "name": "stderr",
          "text": [
            "ERROR:root:An error occurred: division by zero\n"
          ]
        }
      ]
    },
    {
      "cell_type": "code",
      "source": [
        "# 15. Write a Python program that prints the content of a file and handles the case when the file is empty.\n",
        "with open(\"emptyfile.txt\", \"r\") as file:\n",
        "    content = file.read()\n",
        "    if content:\n",
        "        print(content)\n",
        "    else:\n",
        "        print(\"The file is empty.\")\n"
      ],
      "metadata": {
        "colab": {
          "base_uri": "https://localhost:8080/",
          "height": 228
        },
        "id": "CLBFhgujzku_",
        "outputId": "25529542-bd84-4860-9025-d1fc737beb38"
      },
      "execution_count": 15,
      "outputs": [
        {
          "output_type": "error",
          "ename": "FileNotFoundError",
          "evalue": "[Errno 2] No such file or directory: 'emptyfile.txt'",
          "traceback": [
            "\u001b[0;31m---------------------------------------------------------------------------\u001b[0m",
            "\u001b[0;31mFileNotFoundError\u001b[0m                         Traceback (most recent call last)",
            "\u001b[0;32m/tmp/ipython-input-15-238249895.py\u001b[0m in \u001b[0;36m<cell line: 0>\u001b[0;34m()\u001b[0m\n\u001b[1;32m      1\u001b[0m \u001b[0;31m# 15. Write a Python program that prints the content of a file and handles the case when the file is empty.\u001b[0m\u001b[0;34m\u001b[0m\u001b[0;34m\u001b[0m\u001b[0m\n\u001b[0;32m----> 2\u001b[0;31m \u001b[0;32mwith\u001b[0m \u001b[0mopen\u001b[0m\u001b[0;34m(\u001b[0m\u001b[0;34m\"emptyfile.txt\"\u001b[0m\u001b[0;34m,\u001b[0m \u001b[0;34m\"r\"\u001b[0m\u001b[0;34m)\u001b[0m \u001b[0;32mas\u001b[0m \u001b[0mfile\u001b[0m\u001b[0;34m:\u001b[0m\u001b[0;34m\u001b[0m\u001b[0;34m\u001b[0m\u001b[0m\n\u001b[0m\u001b[1;32m      3\u001b[0m     \u001b[0mcontent\u001b[0m \u001b[0;34m=\u001b[0m \u001b[0mfile\u001b[0m\u001b[0;34m.\u001b[0m\u001b[0mread\u001b[0m\u001b[0;34m(\u001b[0m\u001b[0;34m)\u001b[0m\u001b[0;34m\u001b[0m\u001b[0;34m\u001b[0m\u001b[0m\n\u001b[1;32m      4\u001b[0m     \u001b[0;32mif\u001b[0m \u001b[0mcontent\u001b[0m\u001b[0;34m:\u001b[0m\u001b[0;34m\u001b[0m\u001b[0;34m\u001b[0m\u001b[0m\n\u001b[1;32m      5\u001b[0m         \u001b[0mprint\u001b[0m\u001b[0;34m(\u001b[0m\u001b[0mcontent\u001b[0m\u001b[0;34m)\u001b[0m\u001b[0;34m\u001b[0m\u001b[0;34m\u001b[0m\u001b[0m\n",
            "\u001b[0;31mFileNotFoundError\u001b[0m: [Errno 2] No such file or directory: 'emptyfile.txt'"
          ]
        }
      ]
    },
    {
      "cell_type": "code",
      "source": [
        "# 16. Demonstrate how to use memory profiling to check the memory usage of a small program.\n",
        "# (Requires memory-profiler package: pip install memory-profiler)\n",
        "\n",
        "from memory_profiler import profile\n",
        "\n",
        "@profile\n",
        "def compute():\n",
        "    a = [i for i in range(10000)]\n",
        "    return sum(a)\n",
        "\n",
        "compute()\n"
      ],
      "metadata": {
        "colab": {
          "base_uri": "https://localhost:8080/",
          "height": 383
        },
        "id": "xfKI2DA7zuY9",
        "outputId": "61559801-75da-40ea-a29f-b54d462af15e"
      },
      "execution_count": 16,
      "outputs": [
        {
          "output_type": "error",
          "ename": "ModuleNotFoundError",
          "evalue": "No module named 'memory_profiler'",
          "traceback": [
            "\u001b[0;31m---------------------------------------------------------------------------\u001b[0m",
            "\u001b[0;31mModuleNotFoundError\u001b[0m                       Traceback (most recent call last)",
            "\u001b[0;32m/tmp/ipython-input-16-3683272651.py\u001b[0m in \u001b[0;36m<cell line: 0>\u001b[0;34m()\u001b[0m\n\u001b[1;32m      2\u001b[0m \u001b[0;31m# (Requires memory-profiler package: pip install memory-profiler)\u001b[0m\u001b[0;34m\u001b[0m\u001b[0;34m\u001b[0m\u001b[0m\n\u001b[1;32m      3\u001b[0m \u001b[0;34m\u001b[0m\u001b[0m\n\u001b[0;32m----> 4\u001b[0;31m \u001b[0;32mfrom\u001b[0m \u001b[0mmemory_profiler\u001b[0m \u001b[0;32mimport\u001b[0m \u001b[0mprofile\u001b[0m\u001b[0;34m\u001b[0m\u001b[0;34m\u001b[0m\u001b[0m\n\u001b[0m\u001b[1;32m      5\u001b[0m \u001b[0;34m\u001b[0m\u001b[0m\n\u001b[1;32m      6\u001b[0m \u001b[0;34m@\u001b[0m\u001b[0mprofile\u001b[0m\u001b[0;34m\u001b[0m\u001b[0;34m\u001b[0m\u001b[0m\n",
            "\u001b[0;31mModuleNotFoundError\u001b[0m: No module named 'memory_profiler'",
            "",
            "\u001b[0;31m---------------------------------------------------------------------------\u001b[0;32m\nNOTE: If your import is failing due to a missing package, you can\nmanually install dependencies using either !pip or !apt.\n\nTo view examples of installing some common dependencies, click the\n\"Open Examples\" button below.\n\u001b[0;31m---------------------------------------------------------------------------\u001b[0m\n"
          ],
          "errorDetails": {
            "actions": [
              {
                "action": "open_url",
                "actionText": "Open Examples",
                "url": "/notebooks/snippets/importing_libraries.ipynb"
              }
            ]
          }
        }
      ]
    },
    {
      "cell_type": "code",
      "source": [
        "# 17. Write a Python program to create and write a list of numbers to a file, one number per line.\n",
        "numbers = [1, 2, 3, 4, 5]\n",
        "with open(\"numbers.txt\", \"w\") as file:\n",
        "    for number in numbers:\n",
        "        file.write(f\"{number}\\n\")\n"
      ],
      "metadata": {
        "id": "PtQn5vQdzySY"
      },
      "execution_count": 17,
      "outputs": []
    },
    {
      "cell_type": "code",
      "source": [
        "# 18. How would you implement a basic logging setup that logs to a file with rotation after 1MB?\n",
        "import logging\n",
        "from logging.handlers import RotatingFileHandler\n",
        "\n",
        "handler = RotatingFileHandler(\"rotated.log\", maxBytes=1_000_000, backupCount=3)\n",
        "logging.basicConfig(handlers=[handler], level=logging.INFO)\n",
        "\n",
        "logging.info(\"This is a log message.\")\n"
      ],
      "metadata": {
        "id": "j3t48_AKz159"
      },
      "execution_count": 18,
      "outputs": []
    },
    {
      "cell_type": "code",
      "source": [
        "# 19. Write a program that handles both IndexError and KeyError using a try-except block.\n",
        "try:\n",
        "    lst = [1, 2, 3]\n",
        "    print(lst[5])\n",
        "    d = {\"a\": 1}\n",
        "    print(d[\"b\"])\n",
        "except IndexError:\n",
        "    print(\"List index out of range.\")\n",
        "except KeyError:\n",
        "    print(\"Dictionary key not found.\")\n"
      ],
      "metadata": {
        "colab": {
          "base_uri": "https://localhost:8080/"
        },
        "id": "P8tsOX6Zz6NK",
        "outputId": "5853dc6d-cf5d-4f29-b1f9-eeafa5f266f9"
      },
      "execution_count": 19,
      "outputs": [
        {
          "output_type": "stream",
          "name": "stdout",
          "text": [
            "List index out of range.\n"
          ]
        }
      ]
    },
    {
      "cell_type": "code",
      "source": [
        "# 20. How would you open a file and read its contents using a context manager in Python?\n",
        "with open(\"sample.txt\", \"r\") as file:\n",
        "    contents = file.read()\n",
        "    print(contents)\n"
      ],
      "metadata": {
        "colab": {
          "base_uri": "https://localhost:8080/",
          "height": 211
        },
        "id": "PowLnovtz93_",
        "outputId": "b3f0e869-7726-49e0-db5f-b55b5dd0eaa8"
      },
      "execution_count": 20,
      "outputs": [
        {
          "output_type": "error",
          "ename": "FileNotFoundError",
          "evalue": "[Errno 2] No such file or directory: 'sample.txt'",
          "traceback": [
            "\u001b[0;31m---------------------------------------------------------------------------\u001b[0m",
            "\u001b[0;31mFileNotFoundError\u001b[0m                         Traceback (most recent call last)",
            "\u001b[0;32m/tmp/ipython-input-20-1359313108.py\u001b[0m in \u001b[0;36m<cell line: 0>\u001b[0;34m()\u001b[0m\n\u001b[1;32m      1\u001b[0m \u001b[0;31m# 20. How would you open a file and read its contents using a context manager in Python?\u001b[0m\u001b[0;34m\u001b[0m\u001b[0;34m\u001b[0m\u001b[0m\n\u001b[0;32m----> 2\u001b[0;31m \u001b[0;32mwith\u001b[0m \u001b[0mopen\u001b[0m\u001b[0;34m(\u001b[0m\u001b[0;34m\"sample.txt\"\u001b[0m\u001b[0;34m,\u001b[0m \u001b[0;34m\"r\"\u001b[0m\u001b[0;34m)\u001b[0m \u001b[0;32mas\u001b[0m \u001b[0mfile\u001b[0m\u001b[0;34m:\u001b[0m\u001b[0;34m\u001b[0m\u001b[0;34m\u001b[0m\u001b[0m\n\u001b[0m\u001b[1;32m      3\u001b[0m     \u001b[0mcontents\u001b[0m \u001b[0;34m=\u001b[0m \u001b[0mfile\u001b[0m\u001b[0;34m.\u001b[0m\u001b[0mread\u001b[0m\u001b[0;34m(\u001b[0m\u001b[0;34m)\u001b[0m\u001b[0;34m\u001b[0m\u001b[0;34m\u001b[0m\u001b[0m\n\u001b[1;32m      4\u001b[0m     \u001b[0mprint\u001b[0m\u001b[0;34m(\u001b[0m\u001b[0mcontents\u001b[0m\u001b[0;34m)\u001b[0m\u001b[0;34m\u001b[0m\u001b[0;34m\u001b[0m\u001b[0m\n",
            "\u001b[0;31mFileNotFoundError\u001b[0m: [Errno 2] No such file or directory: 'sample.txt'"
          ]
        }
      ]
    },
    {
      "cell_type": "code",
      "source": [
        "# 21. Write a Python program that reads a file and prints the number of occurrences of a specific word.\n",
        "word = \"python\"\n",
        "count = 0\n",
        "\n",
        "with open(\"textfile.txt\", \"r\") as file:\n",
        "    for line in file:\n",
        "        count += line.lower().split().count(word.lower())\n",
        "\n",
        "print(f\"Occurrences of '{word}':\", count)\n"
      ],
      "metadata": {
        "colab": {
          "base_uri": "https://localhost:8080/",
          "height": 211
        },
        "id": "rVEZxyES0EEV",
        "outputId": "ec6b43fd-db65-4046-eb1b-f99a23dcfa43"
      },
      "execution_count": 21,
      "outputs": [
        {
          "output_type": "error",
          "ename": "FileNotFoundError",
          "evalue": "[Errno 2] No such file or directory: 'textfile.txt'",
          "traceback": [
            "\u001b[0;31m---------------------------------------------------------------------------\u001b[0m",
            "\u001b[0;31mFileNotFoundError\u001b[0m                         Traceback (most recent call last)",
            "\u001b[0;32m/tmp/ipython-input-21-457383124.py\u001b[0m in \u001b[0;36m<cell line: 0>\u001b[0;34m()\u001b[0m\n\u001b[1;32m      3\u001b[0m \u001b[0mcount\u001b[0m \u001b[0;34m=\u001b[0m \u001b[0;36m0\u001b[0m\u001b[0;34m\u001b[0m\u001b[0;34m\u001b[0m\u001b[0m\n\u001b[1;32m      4\u001b[0m \u001b[0;34m\u001b[0m\u001b[0m\n\u001b[0;32m----> 5\u001b[0;31m \u001b[0;32mwith\u001b[0m \u001b[0mopen\u001b[0m\u001b[0;34m(\u001b[0m\u001b[0;34m\"textfile.txt\"\u001b[0m\u001b[0;34m,\u001b[0m \u001b[0;34m\"r\"\u001b[0m\u001b[0;34m)\u001b[0m \u001b[0;32mas\u001b[0m \u001b[0mfile\u001b[0m\u001b[0;34m:\u001b[0m\u001b[0;34m\u001b[0m\u001b[0;34m\u001b[0m\u001b[0m\n\u001b[0m\u001b[1;32m      6\u001b[0m     \u001b[0;32mfor\u001b[0m \u001b[0mline\u001b[0m \u001b[0;32min\u001b[0m \u001b[0mfile\u001b[0m\u001b[0;34m:\u001b[0m\u001b[0;34m\u001b[0m\u001b[0;34m\u001b[0m\u001b[0m\n\u001b[1;32m      7\u001b[0m         \u001b[0mcount\u001b[0m \u001b[0;34m+=\u001b[0m \u001b[0mline\u001b[0m\u001b[0;34m.\u001b[0m\u001b[0mlower\u001b[0m\u001b[0;34m(\u001b[0m\u001b[0;34m)\u001b[0m\u001b[0;34m.\u001b[0m\u001b[0msplit\u001b[0m\u001b[0;34m(\u001b[0m\u001b[0;34m)\u001b[0m\u001b[0;34m.\u001b[0m\u001b[0mcount\u001b[0m\u001b[0;34m(\u001b[0m\u001b[0mword\u001b[0m\u001b[0;34m.\u001b[0m\u001b[0mlower\u001b[0m\u001b[0;34m(\u001b[0m\u001b[0;34m)\u001b[0m\u001b[0;34m)\u001b[0m\u001b[0;34m\u001b[0m\u001b[0;34m\u001b[0m\u001b[0m\n",
            "\u001b[0;31mFileNotFoundError\u001b[0m: [Errno 2] No such file or directory: 'textfile.txt'"
          ]
        }
      ]
    },
    {
      "cell_type": "code",
      "source": [
        "# 22. How can you check if a file is empty before attempting to read its contents?\n",
        "import os\n",
        "\n",
        "if os.path.getsize(\"maybe_empty.txt\") == 0:\n",
        "    print(\"File is empty.\")\n",
        "else:\n",
        "    with open(\"maybe_empty.txt\", \"r\") as file:\n",
        "        print(file.read())\n"
      ],
      "metadata": {
        "colab": {
          "base_uri": "https://localhost:8080/",
          "height": 245
        },
        "id": "hHFYHkhT0J2-",
        "outputId": "3d2c5e87-6b16-489a-8315-42a3c1015e1a"
      },
      "execution_count": 22,
      "outputs": [
        {
          "output_type": "error",
          "ename": "FileNotFoundError",
          "evalue": "[Errno 2] No such file or directory: 'maybe_empty.txt'",
          "traceback": [
            "\u001b[0;31m---------------------------------------------------------------------------\u001b[0m",
            "\u001b[0;31mFileNotFoundError\u001b[0m                         Traceback (most recent call last)",
            "\u001b[0;32m/tmp/ipython-input-22-3236950230.py\u001b[0m in \u001b[0;36m<cell line: 0>\u001b[0;34m()\u001b[0m\n\u001b[1;32m      2\u001b[0m \u001b[0;32mimport\u001b[0m \u001b[0mos\u001b[0m\u001b[0;34m\u001b[0m\u001b[0;34m\u001b[0m\u001b[0m\n\u001b[1;32m      3\u001b[0m \u001b[0;34m\u001b[0m\u001b[0m\n\u001b[0;32m----> 4\u001b[0;31m \u001b[0;32mif\u001b[0m \u001b[0mos\u001b[0m\u001b[0;34m.\u001b[0m\u001b[0mpath\u001b[0m\u001b[0;34m.\u001b[0m\u001b[0mgetsize\u001b[0m\u001b[0;34m(\u001b[0m\u001b[0;34m\"maybe_empty.txt\"\u001b[0m\u001b[0;34m)\u001b[0m \u001b[0;34m==\u001b[0m \u001b[0;36m0\u001b[0m\u001b[0;34m:\u001b[0m\u001b[0;34m\u001b[0m\u001b[0;34m\u001b[0m\u001b[0m\n\u001b[0m\u001b[1;32m      5\u001b[0m     \u001b[0mprint\u001b[0m\u001b[0;34m(\u001b[0m\u001b[0;34m\"File is empty.\"\u001b[0m\u001b[0;34m)\u001b[0m\u001b[0;34m\u001b[0m\u001b[0;34m\u001b[0m\u001b[0m\n\u001b[1;32m      6\u001b[0m \u001b[0;32melse\u001b[0m\u001b[0;34m:\u001b[0m\u001b[0;34m\u001b[0m\u001b[0;34m\u001b[0m\u001b[0m\n",
            "\u001b[0;32m/usr/lib/python3.11/genericpath.py\u001b[0m in \u001b[0;36mgetsize\u001b[0;34m(filename)\u001b[0m\n",
            "\u001b[0;31mFileNotFoundError\u001b[0m: [Errno 2] No such file or directory: 'maybe_empty.txt'"
          ]
        }
      ]
    },
    {
      "cell_type": "code",
      "source": [
        "# 23. Write a Python program that writes to a log file when an error occurs during file handling.\n",
        "import logging\n",
        "\n",
        "logging.basicConfig(filename=\"file_error.log\", level=logging.ERROR)\n",
        "\n",
        "try:\n",
        "    with open(\"missingfile.txt\", \"r\") as file:\n",
        "        print(file.read())\n",
        "except Exception as e:\n",
        "    logging.error(f\"Error occurred while reading file: {e}\")\n"
      ],
      "metadata": {
        "colab": {
          "base_uri": "https://localhost:8080/"
        },
        "id": "QgvqUrtV0Nq6",
        "outputId": "15aab364-d60e-4fe9-a3cd-693335a91c94"
      },
      "execution_count": 23,
      "outputs": [
        {
          "output_type": "stream",
          "name": "stderr",
          "text": [
            "ERROR:root:Error occurred while reading file: [Errno 2] No such file or directory: 'missingfile.txt'\n"
          ]
        }
      ]
    }
  ]
}